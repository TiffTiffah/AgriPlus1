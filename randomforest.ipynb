{
 "cells": [
  {
   "cell_type": "code",
   "execution_count": 23,
   "id": "7693d0e6",
   "metadata": {},
   "outputs": [],
   "source": [
    "import joblib\n",
    "import pandas as pd\n",
    "from sklearn.model_selection import train_test_split\n",
    "from sklearn.tree import DecisionTreeRegressor\n",
    "from sklearn.model_selection import train_test_split\n",
    "from sklearn.ensemble import RandomForestRegressor\n",
    "from sklearn.metrics import mean_squared_error\n",
    "from sklearn.model_selection import learning_curve\n",
    "import matplotlib.pyplot as plt"
   ]
  },
  {
   "cell_type": "code",
   "execution_count": 24,
   "id": "c4410e40",
   "metadata": {},
   "outputs": [],
   "source": [
    "df = pd.read_csv(\"climate-ds.csv\")"
   ]
  },
  {
   "cell_type": "code",
   "execution_count": 25,
   "id": "6c689a21",
   "metadata": {},
   "outputs": [
    {
     "data": {
      "text/html": [
       "<div>\n",
       "<style scoped>\n",
       "    .dataframe tbody tr th:only-of-type {\n",
       "        vertical-align: middle;\n",
       "    }\n",
       "\n",
       "    .dataframe tbody tr th {\n",
       "        vertical-align: top;\n",
       "    }\n",
       "\n",
       "    .dataframe thead th {\n",
       "        text-align: right;\n",
       "    }\n",
       "</style>\n",
       "<table border=\"1\" class=\"dataframe\">\n",
       "  <thead>\n",
       "    <tr style=\"text-align: right;\">\n",
       "      <th></th>\n",
       "      <th>Area</th>\n",
       "      <th>Item</th>\n",
       "      <th>Year</th>\n",
       "      <th>average_rain_fall_mm_per_year</th>\n",
       "      <th>pesticides_tonnes</th>\n",
       "      <th>avg_temp</th>\n",
       "      <th>hg/ha_yield</th>\n",
       "    </tr>\n",
       "  </thead>\n",
       "  <tbody>\n",
       "    <tr>\n",
       "      <th>0</th>\n",
       "      <td>Albania</td>\n",
       "      <td>Maize</td>\n",
       "      <td>1990</td>\n",
       "      <td>1485</td>\n",
       "      <td>121.0</td>\n",
       "      <td>16.37</td>\n",
       "      <td>36613</td>\n",
       "    </tr>\n",
       "    <tr>\n",
       "      <th>1</th>\n",
       "      <td>Albania</td>\n",
       "      <td>Potatoes</td>\n",
       "      <td>1990</td>\n",
       "      <td>1485</td>\n",
       "      <td>121.0</td>\n",
       "      <td>16.37</td>\n",
       "      <td>66667</td>\n",
       "    </tr>\n",
       "    <tr>\n",
       "      <th>2</th>\n",
       "      <td>Albania</td>\n",
       "      <td>Rice, paddy</td>\n",
       "      <td>1990</td>\n",
       "      <td>1485</td>\n",
       "      <td>121.0</td>\n",
       "      <td>16.37</td>\n",
       "      <td>23333</td>\n",
       "    </tr>\n",
       "    <tr>\n",
       "      <th>3</th>\n",
       "      <td>Albania</td>\n",
       "      <td>Sorghum</td>\n",
       "      <td>1990</td>\n",
       "      <td>1485</td>\n",
       "      <td>121.0</td>\n",
       "      <td>16.37</td>\n",
       "      <td>12500</td>\n",
       "    </tr>\n",
       "    <tr>\n",
       "      <th>4</th>\n",
       "      <td>Albania</td>\n",
       "      <td>Soybeans</td>\n",
       "      <td>1990</td>\n",
       "      <td>1485</td>\n",
       "      <td>121.0</td>\n",
       "      <td>16.37</td>\n",
       "      <td>7000</td>\n",
       "    </tr>\n",
       "    <tr>\n",
       "      <th>5</th>\n",
       "      <td>Albania</td>\n",
       "      <td>Wheat</td>\n",
       "      <td>1990</td>\n",
       "      <td>1485</td>\n",
       "      <td>121.0</td>\n",
       "      <td>16.37</td>\n",
       "      <td>30197</td>\n",
       "    </tr>\n",
       "    <tr>\n",
       "      <th>6</th>\n",
       "      <td>Albania</td>\n",
       "      <td>Maize</td>\n",
       "      <td>1991</td>\n",
       "      <td>1485</td>\n",
       "      <td>121.0</td>\n",
       "      <td>15.36</td>\n",
       "      <td>29068</td>\n",
       "    </tr>\n",
       "    <tr>\n",
       "      <th>7</th>\n",
       "      <td>Albania</td>\n",
       "      <td>Potatoes</td>\n",
       "      <td>1991</td>\n",
       "      <td>1485</td>\n",
       "      <td>121.0</td>\n",
       "      <td>15.36</td>\n",
       "      <td>77818</td>\n",
       "    </tr>\n",
       "    <tr>\n",
       "      <th>8</th>\n",
       "      <td>Albania</td>\n",
       "      <td>Rice, paddy</td>\n",
       "      <td>1991</td>\n",
       "      <td>1485</td>\n",
       "      <td>121.0</td>\n",
       "      <td>15.36</td>\n",
       "      <td>28538</td>\n",
       "    </tr>\n",
       "    <tr>\n",
       "      <th>9</th>\n",
       "      <td>Albania</td>\n",
       "      <td>Sorghum</td>\n",
       "      <td>1991</td>\n",
       "      <td>1485</td>\n",
       "      <td>121.0</td>\n",
       "      <td>15.36</td>\n",
       "      <td>6667</td>\n",
       "    </tr>\n",
       "  </tbody>\n",
       "</table>\n",
       "</div>"
      ],
      "text/plain": [
       "      Area         Item  Year  average_rain_fall_mm_per_year  \\\n",
       "0  Albania        Maize  1990                           1485   \n",
       "1  Albania     Potatoes  1990                           1485   \n",
       "2  Albania  Rice, paddy  1990                           1485   \n",
       "3  Albania      Sorghum  1990                           1485   \n",
       "4  Albania     Soybeans  1990                           1485   \n",
       "5  Albania        Wheat  1990                           1485   \n",
       "6  Albania        Maize  1991                           1485   \n",
       "7  Albania     Potatoes  1991                           1485   \n",
       "8  Albania  Rice, paddy  1991                           1485   \n",
       "9  Albania      Sorghum  1991                           1485   \n",
       "\n",
       "   pesticides_tonnes  avg_temp  hg/ha_yield  \n",
       "0              121.0     16.37        36613  \n",
       "1              121.0     16.37        66667  \n",
       "2              121.0     16.37        23333  \n",
       "3              121.0     16.37        12500  \n",
       "4              121.0     16.37         7000  \n",
       "5              121.0     16.37        30197  \n",
       "6              121.0     15.36        29068  \n",
       "7              121.0     15.36        77818  \n",
       "8              121.0     15.36        28538  \n",
       "9              121.0     15.36         6667  "
      ]
     },
     "execution_count": 25,
     "metadata": {},
     "output_type": "execute_result"
    }
   ],
   "source": [
    "df.head(10)"
   ]
  },
  {
   "cell_type": "code",
   "execution_count": 26,
   "id": "9ffcbe8d",
   "metadata": {},
   "outputs": [
    {
     "name": "stdout",
     "output_type": "stream",
     "text": [
      "<class 'pandas.core.frame.DataFrame'>\n",
      "RangeIndex: 28242 entries, 0 to 28241\n",
      "Data columns (total 7 columns):\n",
      " #   Column                         Non-Null Count  Dtype  \n",
      "---  ------                         --------------  -----  \n",
      " 0   Area                           28242 non-null  object \n",
      " 1   Item                           28242 non-null  object \n",
      " 2   Year                           28242 non-null  int64  \n",
      " 3   average_rain_fall_mm_per_year  28242 non-null  int64  \n",
      " 4   pesticides_tonnes              28242 non-null  float64\n",
      " 5   avg_temp                       28242 non-null  float64\n",
      " 6   hg/ha_yield                    28242 non-null  int64  \n",
      "dtypes: float64(2), int64(3), object(2)\n",
      "memory usage: 1.5+ MB\n"
     ]
    }
   ],
   "source": [
    "df.info()"
   ]
  },
  {
   "cell_type": "code",
   "execution_count": 27,
   "id": "8e09ff9c",
   "metadata": {},
   "outputs": [
    {
     "data": {
      "text/html": [
       "<div>\n",
       "<style scoped>\n",
       "    .dataframe tbody tr th:only-of-type {\n",
       "        vertical-align: middle;\n",
       "    }\n",
       "\n",
       "    .dataframe tbody tr th {\n",
       "        vertical-align: top;\n",
       "    }\n",
       "\n",
       "    .dataframe thead th {\n",
       "        text-align: right;\n",
       "    }\n",
       "</style>\n",
       "<table border=\"1\" class=\"dataframe\">\n",
       "  <thead>\n",
       "    <tr style=\"text-align: right;\">\n",
       "      <th></th>\n",
       "      <th>Year</th>\n",
       "      <th>average_rain_fall_mm_per_year</th>\n",
       "      <th>pesticides_tonnes</th>\n",
       "      <th>avg_temp</th>\n",
       "      <th>hg/ha_yield</th>\n",
       "    </tr>\n",
       "  </thead>\n",
       "  <tbody>\n",
       "    <tr>\n",
       "      <th>count</th>\n",
       "      <td>28242.000000</td>\n",
       "      <td>28242.00000</td>\n",
       "      <td>28242.000000</td>\n",
       "      <td>28242.000000</td>\n",
       "      <td>28242.000000</td>\n",
       "    </tr>\n",
       "    <tr>\n",
       "      <th>mean</th>\n",
       "      <td>2001.544296</td>\n",
       "      <td>1149.05598</td>\n",
       "      <td>37076.909344</td>\n",
       "      <td>20.542627</td>\n",
       "      <td>77053.332094</td>\n",
       "    </tr>\n",
       "    <tr>\n",
       "      <th>std</th>\n",
       "      <td>7.051905</td>\n",
       "      <td>709.81215</td>\n",
       "      <td>59958.784665</td>\n",
       "      <td>6.312051</td>\n",
       "      <td>84956.612897</td>\n",
       "    </tr>\n",
       "    <tr>\n",
       "      <th>min</th>\n",
       "      <td>1990.000000</td>\n",
       "      <td>51.00000</td>\n",
       "      <td>0.040000</td>\n",
       "      <td>1.300000</td>\n",
       "      <td>50.000000</td>\n",
       "    </tr>\n",
       "    <tr>\n",
       "      <th>25%</th>\n",
       "      <td>1995.000000</td>\n",
       "      <td>593.00000</td>\n",
       "      <td>1702.000000</td>\n",
       "      <td>16.702500</td>\n",
       "      <td>19919.250000</td>\n",
       "    </tr>\n",
       "    <tr>\n",
       "      <th>50%</th>\n",
       "      <td>2001.000000</td>\n",
       "      <td>1083.00000</td>\n",
       "      <td>17529.440000</td>\n",
       "      <td>21.510000</td>\n",
       "      <td>38295.000000</td>\n",
       "    </tr>\n",
       "    <tr>\n",
       "      <th>75%</th>\n",
       "      <td>2008.000000</td>\n",
       "      <td>1668.00000</td>\n",
       "      <td>48687.880000</td>\n",
       "      <td>26.000000</td>\n",
       "      <td>104676.750000</td>\n",
       "    </tr>\n",
       "    <tr>\n",
       "      <th>max</th>\n",
       "      <td>2013.000000</td>\n",
       "      <td>3240.00000</td>\n",
       "      <td>367778.000000</td>\n",
       "      <td>30.650000</td>\n",
       "      <td>501412.000000</td>\n",
       "    </tr>\n",
       "  </tbody>\n",
       "</table>\n",
       "</div>"
      ],
      "text/plain": [
       "               Year  average_rain_fall_mm_per_year  pesticides_tonnes  \\\n",
       "count  28242.000000                    28242.00000       28242.000000   \n",
       "mean    2001.544296                     1149.05598       37076.909344   \n",
       "std        7.051905                      709.81215       59958.784665   \n",
       "min     1990.000000                       51.00000           0.040000   \n",
       "25%     1995.000000                      593.00000        1702.000000   \n",
       "50%     2001.000000                     1083.00000       17529.440000   \n",
       "75%     2008.000000                     1668.00000       48687.880000   \n",
       "max     2013.000000                     3240.00000      367778.000000   \n",
       "\n",
       "           avg_temp    hg/ha_yield  \n",
       "count  28242.000000   28242.000000  \n",
       "mean      20.542627   77053.332094  \n",
       "std        6.312051   84956.612897  \n",
       "min        1.300000      50.000000  \n",
       "25%       16.702500   19919.250000  \n",
       "50%       21.510000   38295.000000  \n",
       "75%       26.000000  104676.750000  \n",
       "max       30.650000  501412.000000  "
      ]
     },
     "execution_count": 27,
     "metadata": {},
     "output_type": "execute_result"
    }
   ],
   "source": [
    "df.describe()"
   ]
  },
  {
   "cell_type": "code",
   "execution_count": 28,
   "id": "67401dcf",
   "metadata": {},
   "outputs": [
    {
     "data": {
      "text/plain": [
       "Item\n",
       "Potatoes                4276\n",
       "Maize                   4121\n",
       "Wheat                   3857\n",
       "Rice, paddy             3388\n",
       "Soybeans                3223\n",
       "Sorghum                 3039\n",
       "Sweet potatoes          2890\n",
       "Cassava                 2045\n",
       "Yams                     847\n",
       "Plantains and others     556\n",
       "Name: count, dtype: int64"
      ]
     },
     "execution_count": 28,
     "metadata": {},
     "output_type": "execute_result"
    }
   ],
   "source": [
    "df[\"Item\"].value_counts()"
   ]
  },
  {
   "cell_type": "code",
   "execution_count": 29,
   "id": "e7756f8d",
   "metadata": {},
   "outputs": [],
   "source": [
    "df.drop(['Year','pesticides_tonnes'], axis=1, inplace=True)\n"
   ]
  },
  {
   "cell_type": "code",
   "execution_count": 30,
   "id": "554e245c",
   "metadata": {},
   "outputs": [
    {
     "data": {
      "text/html": [
       "<div>\n",
       "<style scoped>\n",
       "    .dataframe tbody tr th:only-of-type {\n",
       "        vertical-align: middle;\n",
       "    }\n",
       "\n",
       "    .dataframe tbody tr th {\n",
       "        vertical-align: top;\n",
       "    }\n",
       "\n",
       "    .dataframe thead th {\n",
       "        text-align: right;\n",
       "    }\n",
       "</style>\n",
       "<table border=\"1\" class=\"dataframe\">\n",
       "  <thead>\n",
       "    <tr style=\"text-align: right;\">\n",
       "      <th></th>\n",
       "      <th>average_rain_fall_mm_per_year</th>\n",
       "      <th>avg_temp</th>\n",
       "      <th>hg/ha_yield</th>\n",
       "    </tr>\n",
       "  </thead>\n",
       "  <tbody>\n",
       "    <tr>\n",
       "      <th>count</th>\n",
       "      <td>28242.00000</td>\n",
       "      <td>28242.000000</td>\n",
       "      <td>28242.000000</td>\n",
       "    </tr>\n",
       "    <tr>\n",
       "      <th>mean</th>\n",
       "      <td>1149.05598</td>\n",
       "      <td>20.542627</td>\n",
       "      <td>77053.332094</td>\n",
       "    </tr>\n",
       "    <tr>\n",
       "      <th>std</th>\n",
       "      <td>709.81215</td>\n",
       "      <td>6.312051</td>\n",
       "      <td>84956.612897</td>\n",
       "    </tr>\n",
       "    <tr>\n",
       "      <th>min</th>\n",
       "      <td>51.00000</td>\n",
       "      <td>1.300000</td>\n",
       "      <td>50.000000</td>\n",
       "    </tr>\n",
       "    <tr>\n",
       "      <th>25%</th>\n",
       "      <td>593.00000</td>\n",
       "      <td>16.702500</td>\n",
       "      <td>19919.250000</td>\n",
       "    </tr>\n",
       "    <tr>\n",
       "      <th>50%</th>\n",
       "      <td>1083.00000</td>\n",
       "      <td>21.510000</td>\n",
       "      <td>38295.000000</td>\n",
       "    </tr>\n",
       "    <tr>\n",
       "      <th>75%</th>\n",
       "      <td>1668.00000</td>\n",
       "      <td>26.000000</td>\n",
       "      <td>104676.750000</td>\n",
       "    </tr>\n",
       "    <tr>\n",
       "      <th>max</th>\n",
       "      <td>3240.00000</td>\n",
       "      <td>30.650000</td>\n",
       "      <td>501412.000000</td>\n",
       "    </tr>\n",
       "  </tbody>\n",
       "</table>\n",
       "</div>"
      ],
      "text/plain": [
       "       average_rain_fall_mm_per_year      avg_temp    hg/ha_yield\n",
       "count                    28242.00000  28242.000000   28242.000000\n",
       "mean                      1149.05598     20.542627   77053.332094\n",
       "std                        709.81215      6.312051   84956.612897\n",
       "min                         51.00000      1.300000      50.000000\n",
       "25%                        593.00000     16.702500   19919.250000\n",
       "50%                       1083.00000     21.510000   38295.000000\n",
       "75%                       1668.00000     26.000000  104676.750000\n",
       "max                       3240.00000     30.650000  501412.000000"
      ]
     },
     "execution_count": 30,
     "metadata": {},
     "output_type": "execute_result"
    }
   ],
   "source": [
    "df.describe()"
   ]
  },
  {
   "cell_type": "code",
   "execution_count": 31,
   "id": "d9854eb7",
   "metadata": {},
   "outputs": [
    {
     "data": {
      "text/html": [
       "<div>\n",
       "<style scoped>\n",
       "    .dataframe tbody tr th:only-of-type {\n",
       "        vertical-align: middle;\n",
       "    }\n",
       "\n",
       "    .dataframe tbody tr th {\n",
       "        vertical-align: top;\n",
       "    }\n",
       "\n",
       "    .dataframe thead th {\n",
       "        text-align: right;\n",
       "    }\n",
       "</style>\n",
       "<table border=\"1\" class=\"dataframe\">\n",
       "  <thead>\n",
       "    <tr style=\"text-align: right;\">\n",
       "      <th></th>\n",
       "      <th>Area</th>\n",
       "      <th>Item</th>\n",
       "      <th>average_rain_fall_mm_per_year</th>\n",
       "      <th>avg_temp</th>\n",
       "      <th>hg/ha_yield</th>\n",
       "    </tr>\n",
       "  </thead>\n",
       "  <tbody>\n",
       "    <tr>\n",
       "      <th>0</th>\n",
       "      <td>Albania</td>\n",
       "      <td>Maize</td>\n",
       "      <td>1485</td>\n",
       "      <td>16.37</td>\n",
       "      <td>36613</td>\n",
       "    </tr>\n",
       "    <tr>\n",
       "      <th>1</th>\n",
       "      <td>Albania</td>\n",
       "      <td>Potatoes</td>\n",
       "      <td>1485</td>\n",
       "      <td>16.37</td>\n",
       "      <td>66667</td>\n",
       "    </tr>\n",
       "    <tr>\n",
       "      <th>2</th>\n",
       "      <td>Albania</td>\n",
       "      <td>Rice, paddy</td>\n",
       "      <td>1485</td>\n",
       "      <td>16.37</td>\n",
       "      <td>23333</td>\n",
       "    </tr>\n",
       "    <tr>\n",
       "      <th>3</th>\n",
       "      <td>Albania</td>\n",
       "      <td>Sorghum</td>\n",
       "      <td>1485</td>\n",
       "      <td>16.37</td>\n",
       "      <td>12500</td>\n",
       "    </tr>\n",
       "    <tr>\n",
       "      <th>4</th>\n",
       "      <td>Albania</td>\n",
       "      <td>Soybeans</td>\n",
       "      <td>1485</td>\n",
       "      <td>16.37</td>\n",
       "      <td>7000</td>\n",
       "    </tr>\n",
       "    <tr>\n",
       "      <th>5</th>\n",
       "      <td>Albania</td>\n",
       "      <td>Wheat</td>\n",
       "      <td>1485</td>\n",
       "      <td>16.37</td>\n",
       "      <td>30197</td>\n",
       "    </tr>\n",
       "    <tr>\n",
       "      <th>6</th>\n",
       "      <td>Albania</td>\n",
       "      <td>Maize</td>\n",
       "      <td>1485</td>\n",
       "      <td>15.36</td>\n",
       "      <td>29068</td>\n",
       "    </tr>\n",
       "    <tr>\n",
       "      <th>7</th>\n",
       "      <td>Albania</td>\n",
       "      <td>Potatoes</td>\n",
       "      <td>1485</td>\n",
       "      <td>15.36</td>\n",
       "      <td>77818</td>\n",
       "    </tr>\n",
       "    <tr>\n",
       "      <th>8</th>\n",
       "      <td>Albania</td>\n",
       "      <td>Rice, paddy</td>\n",
       "      <td>1485</td>\n",
       "      <td>15.36</td>\n",
       "      <td>28538</td>\n",
       "    </tr>\n",
       "    <tr>\n",
       "      <th>9</th>\n",
       "      <td>Albania</td>\n",
       "      <td>Sorghum</td>\n",
       "      <td>1485</td>\n",
       "      <td>15.36</td>\n",
       "      <td>6667</td>\n",
       "    </tr>\n",
       "  </tbody>\n",
       "</table>\n",
       "</div>"
      ],
      "text/plain": [
       "      Area         Item  average_rain_fall_mm_per_year  avg_temp  hg/ha_yield\n",
       "0  Albania        Maize                           1485     16.37        36613\n",
       "1  Albania     Potatoes                           1485     16.37        66667\n",
       "2  Albania  Rice, paddy                           1485     16.37        23333\n",
       "3  Albania      Sorghum                           1485     16.37        12500\n",
       "4  Albania     Soybeans                           1485     16.37         7000\n",
       "5  Albania        Wheat                           1485     16.37        30197\n",
       "6  Albania        Maize                           1485     15.36        29068\n",
       "7  Albania     Potatoes                           1485     15.36        77818\n",
       "8  Albania  Rice, paddy                           1485     15.36        28538\n",
       "9  Albania      Sorghum                           1485     15.36         6667"
      ]
     },
     "execution_count": 31,
     "metadata": {},
     "output_type": "execute_result"
    }
   ],
   "source": [
    "df.head(10)"
   ]
  },
  {
   "cell_type": "code",
   "execution_count": 32,
   "id": "18045430",
   "metadata": {},
   "outputs": [
    {
     "name": "stdout",
     "output_type": "stream",
     "text": [
      "Area                             0\n",
      "Item                             0\n",
      "average_rain_fall_mm_per_year    0\n",
      "avg_temp                         0\n",
      "hg/ha_yield                      0\n",
      "dtype: int64\n"
     ]
    }
   ],
   "source": [
    "nan_values = df.isna().sum()\n",
    "print(nan_values)"
   ]
  },
  {
   "cell_type": "code",
   "execution_count": 33,
   "id": "0398be84",
   "metadata": {},
   "outputs": [
    {
     "data": {
      "text/html": [
       "<div>\n",
       "<style scoped>\n",
       "    .dataframe tbody tr th:only-of-type {\n",
       "        vertical-align: middle;\n",
       "    }\n",
       "\n",
       "    .dataframe tbody tr th {\n",
       "        vertical-align: top;\n",
       "    }\n",
       "\n",
       "    .dataframe thead th {\n",
       "        text-align: right;\n",
       "    }\n",
       "</style>\n",
       "<table border=\"1\" class=\"dataframe\">\n",
       "  <thead>\n",
       "    <tr style=\"text-align: right;\">\n",
       "      <th></th>\n",
       "      <th>Area</th>\n",
       "      <th>Item</th>\n",
       "      <th>average_rain_fall_mm_per_year</th>\n",
       "      <th>avg_temp</th>\n",
       "    </tr>\n",
       "  </thead>\n",
       "  <tbody>\n",
       "    <tr>\n",
       "      <th>0</th>\n",
       "      <td>0</td>\n",
       "      <td>1</td>\n",
       "      <td>1485</td>\n",
       "      <td>16.37</td>\n",
       "    </tr>\n",
       "    <tr>\n",
       "      <th>1</th>\n",
       "      <td>0</td>\n",
       "      <td>3</td>\n",
       "      <td>1485</td>\n",
       "      <td>16.37</td>\n",
       "    </tr>\n",
       "    <tr>\n",
       "      <th>2</th>\n",
       "      <td>0</td>\n",
       "      <td>4</td>\n",
       "      <td>1485</td>\n",
       "      <td>16.37</td>\n",
       "    </tr>\n",
       "    <tr>\n",
       "      <th>3</th>\n",
       "      <td>0</td>\n",
       "      <td>5</td>\n",
       "      <td>1485</td>\n",
       "      <td>16.37</td>\n",
       "    </tr>\n",
       "    <tr>\n",
       "      <th>4</th>\n",
       "      <td>0</td>\n",
       "      <td>6</td>\n",
       "      <td>1485</td>\n",
       "      <td>16.37</td>\n",
       "    </tr>\n",
       "    <tr>\n",
       "      <th>5</th>\n",
       "      <td>0</td>\n",
       "      <td>8</td>\n",
       "      <td>1485</td>\n",
       "      <td>16.37</td>\n",
       "    </tr>\n",
       "    <tr>\n",
       "      <th>6</th>\n",
       "      <td>0</td>\n",
       "      <td>1</td>\n",
       "      <td>1485</td>\n",
       "      <td>15.36</td>\n",
       "    </tr>\n",
       "    <tr>\n",
       "      <th>7</th>\n",
       "      <td>0</td>\n",
       "      <td>3</td>\n",
       "      <td>1485</td>\n",
       "      <td>15.36</td>\n",
       "    </tr>\n",
       "    <tr>\n",
       "      <th>8</th>\n",
       "      <td>0</td>\n",
       "      <td>4</td>\n",
       "      <td>1485</td>\n",
       "      <td>15.36</td>\n",
       "    </tr>\n",
       "    <tr>\n",
       "      <th>9</th>\n",
       "      <td>0</td>\n",
       "      <td>5</td>\n",
       "      <td>1485</td>\n",
       "      <td>15.36</td>\n",
       "    </tr>\n",
       "  </tbody>\n",
       "</table>\n",
       "</div>"
      ],
      "text/plain": [
       "   Area  Item  average_rain_fall_mm_per_year  avg_temp\n",
       "0     0     1                           1485     16.37\n",
       "1     0     3                           1485     16.37\n",
       "2     0     4                           1485     16.37\n",
       "3     0     5                           1485     16.37\n",
       "4     0     6                           1485     16.37\n",
       "5     0     8                           1485     16.37\n",
       "6     0     1                           1485     15.36\n",
       "7     0     3                           1485     15.36\n",
       "8     0     4                           1485     15.36\n",
       "9     0     5                           1485     15.36"
      ]
     },
     "execution_count": 33,
     "metadata": {},
     "output_type": "execute_result"
    }
   ],
   "source": [
    "from sklearn.preprocessing import LabelEncoder\n",
    "\n",
    "# Create and fit LabelEncoders\n",
    "le_item = LabelEncoder()\n",
    "le_area = LabelEncoder()\n",
    "\n",
    "df['Item'] = le_item.fit_transform(df['Item'])\n",
    "df['Area'] = le_area.fit_transform(df['Area'])\n",
    "X = df.loc[:, df.columns != 'hg/ha_yield']\n",
    "Y = df['hg/ha_yield']\n",
    "\n",
    "X.head(10)"
   ]
  },
  {
   "cell_type": "code",
   "execution_count": 34,
   "id": "bdede558",
   "metadata": {},
   "outputs": [
    {
     "name": "stdout",
     "output_type": "stream",
     "text": [
      "2330\n"
     ]
    }
   ],
   "source": [
    "# Check for duplicate rows\n",
    "duplicate_rows = df.duplicated()\n",
    "print(duplicate_rows.sum())"
   ]
  },
  {
   "cell_type": "code",
   "execution_count": 35,
   "id": "9745320c",
   "metadata": {},
   "outputs": [],
   "source": [
    "df_no_duplicates = df.drop_duplicates()"
   ]
  },
  {
   "cell_type": "code",
   "execution_count": 36,
   "id": "630c99a2",
   "metadata": {},
   "outputs": [
    {
     "name": "stdout",
     "output_type": "stream",
     "text": [
      "Area                             0\n",
      "Item                             0\n",
      "average_rain_fall_mm_per_year    0\n",
      "avg_temp                         0\n",
      "hg/ha_yield                      0\n",
      "dtype: int64\n"
     ]
    }
   ],
   "source": [
    "nan_values = df.isna().sum()\n",
    "print(nan_values)"
   ]
  },
  {
   "cell_type": "code",
   "execution_count": 37,
   "id": "0387ec80",
   "metadata": {},
   "outputs": [
    {
     "name": "stdout",
     "output_type": "stream",
     "text": [
      "Area                               int32\n",
      "Item                               int32\n",
      "average_rain_fall_mm_per_year      int64\n",
      "avg_temp                         float64\n",
      "hg/ha_yield                        int64\n",
      "dtype: object\n"
     ]
    }
   ],
   "source": [
    "print(df.dtypes)\n"
   ]
  },
  {
   "cell_type": "code",
   "execution_count": 38,
   "id": "c8d9fa44",
   "metadata": {},
   "outputs": [],
   "source": [
    "from sklearn.preprocessing import StandardScaler\n",
    "\n",
    "scaler = StandardScaler()\n",
    "df[['average_rain_fall_mm_per_year', 'avg_temp', 'hg/ha_yield']] = scaler.fit_transform(df[['average_rain_fall_mm_per_year', 'avg_temp', 'hg/ha_yield']])\n"
   ]
  },
  {
   "cell_type": "code",
   "execution_count": 39,
   "id": "9630ec8d",
   "metadata": {},
   "outputs": [],
   "source": [
    "# Split the data into training and testing sets\n",
    "X_train, X_test, Y_train, Y_test = train_test_split(X, Y, test_size=0.2, random_state=42)\n"
   ]
  },
  {
   "cell_type": "code",
   "execution_count": 40,
   "id": "b58372ab",
   "metadata": {
    "scrolled": true
   },
   "outputs": [
    {
     "name": "stdout",
     "output_type": "stream",
     "text": [
      "Random Forest Regressor: Mean Squared Error = 549280062.6645429\n"
     ]
    }
   ],
   "source": [
    "# Create and train the Decision Tree Regressor\n",
    "random_forest_model = RandomForestRegressor(n_estimators = 100, random_state = 0)\n",
    "random_forest_model.fit(X_train, Y_train)\n",
    "\n",
    "# Make predictions on the test set\n",
    "predictions = random_forest_model.predict(X_test)\n",
    "\n",
    "# Evaluate the model\n",
    "mse = mean_squared_error(Y_test, predictions)\n",
    "print(f'Random Forest Regressor: Mean Squared Error = {mse}')\n"
   ]
  },
  {
   "cell_type": "code",
   "execution_count": 41,
   "id": "25d5a39d",
   "metadata": {},
   "outputs": [
    {
     "name": "stdout",
     "output_type": "stream",
     "text": [
      "Model score: 0.9242755855419501\n",
      "   Actual      Predicted\n",
      "0   69220   70321.200000\n",
      "1   20000   24477.060000\n",
      "2   51206   53243.560000\n",
      "3  166986  156748.076667\n",
      "4   56319   54456.630000\n",
      "5   26163   29644.555000\n",
      "6   30708   31754.815833\n",
      "7  109771  109644.690000\n",
      "8  241650  218355.940000\n",
      "9   47500   44476.855000\n"
     ]
    }
   ],
   "source": [
    "print('Model score: {}'.format(random_forest_model.score(X_test, Y_test)))\n",
    "\n",
    "# Create a DataFrame with actual and predicted values\n",
    "y_test_df = pd.DataFrame({'Actual': Y_test.values.flatten(), 'Predicted': random_forest_model.predict(X_test)})\n",
    "\n",
    "# Display the first 10 rows\n",
    "print(y_test_df.head(10))\n"
   ]
  },
  {
   "cell_type": "code",
   "execution_count": 42,
   "id": "dec8084c",
   "metadata": {},
   "outputs": [
    {
     "data": {
      "image/png": "[encoded data removed]",
      "text/plain": [
       "<Figure size 640x480 with 1 Axes>"
      ]
     },
     "metadata": {},
     "output_type": "display_data"
    }
   ],
   "source": [
    "# Scatter plot\n",
    "plt.scatter(y_test_df['Actual'], y_test_df['Predicted'], edgecolors=(0, 0, 0))\n",
    "plt.xlabel('Actual')\n",
    "plt.ylabel('Predicted')\n",
    "plt.title(\"Actual vs Predicted\")\n",
    "\n",
    "# Display the plot\n",
    "plt.show()"
   ]
  },
  {
   "cell_type": "code",
   "execution_count": 43,
   "id": "b70eeffa",
   "metadata": {},
   "outputs": [
    {
     "name": "stdout",
     "output_type": "stream",
     "text": [
      "Mean Cross-Validation Score: 3043751464.185698\n",
      "Standard Deviation of Cross-Validation Scores: 1023359953.4021206\n"
     ]
    }
   ],
   "source": [
    "from sklearn.model_selection import cross_val_score\n",
    "\n",
    "# Assuming 'random_forest_model' is your Random Forest Regressor model\n",
    "scores = cross_val_score(random_forest_model, X, Y, cv=5, scoring='neg_mean_squared_error')\n",
    "\n",
    "# Calculate the mean and standard deviation of the cross-validation scores\n",
    "mean_score = -scores.mean()\n",
    "std_score = scores.std()\n",
    "\n",
    "print(f'Mean Cross-Validation Score: {mean_score}')\n",
    "print(f'Standard Deviation of Cross-Validation Scores: {std_score}')\n"
   ]
  },
  {
   "cell_type": "code",
   "execution_count": 44,
   "id": "b850f770",
   "metadata": {},
   "outputs": [
    {
     "data": {
      "text/plain": [
       "['le_area_classes.joblib']"
      ]
     },
     "execution_count": 44,
     "metadata": {},
     "output_type": "execute_result"
    }
   ],
   "source": [
    "joblib.dump(random_forest_model, 'model.joblib')\n",
    "# During training, after fitting the LabelEncoders\n",
    "joblib.dump(le_item.classes_, 'le_item_classes.joblib')\n",
    "joblib.dump(le_area.classes_, 'le_area_classes.joblib')"
   ]
  },
  {
   "cell_type": "code",
   "execution_count": null,
   "id": "0db7426c",
   "metadata": {},
   "outputs": [],
   "source": []
  }
 ],
 "metadata": {
  "kernelspec": {
   "display_name": "Python 3 (ipykernel)",
   "language": "python",
   "name": "python3"
  },
  "language_info": {
   "codemirror_mode": {
    "name": "ipython",
    "version": 3
   },
   "file_extension": ".py",
   "mimetype": "text/x-python",
   "name": "python",
   "nbconvert_exporter": "python",
   "pygments_lexer": "ipython3",
   "version": "3.11.3"
  }
 },
 "nbformat": 4,
 "nbformat_minor": 5
}
